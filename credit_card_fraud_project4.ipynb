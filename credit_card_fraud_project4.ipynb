{
 "cells": [
  {
   "cell_type": "code",
   "execution_count": null,
   "metadata": {},
   "outputs": [],
   "source": [
    "import pandas as pd\n",
    "import numpy as np                                              #Importing the libraries\n",
    "import matplotlib.pyplot as plt"
   ]
  },
  {
   "cell_type": "code",
   "execution_count": null,
   "metadata": {},
   "outputs": [],
   "source": [
    "cre_df = pd.read_csv(\"C:\\\\Users\\\\PUNEET SINGH\\\\creditcard.csv\")\n",
    "cre_df.shape                                                               #Importing the dataset and checking the shape of the dataset"
   ]
  },
  {
   "cell_type": "code",
   "execution_count": null,
   "metadata": {},
   "outputs": [],
   "source": [
    "cre_df.head()                                         #checking the first 5 rows of the dataset"
   ]
  },
  {
   "cell_type": "code",
   "execution_count": 10,
   "metadata": {
    "scrolled": true
   },
   "outputs": [
    {
     "data": {
      "text/html": [
       "<div>\n",
       "<style scoped>\n",
       "    .dataframe tbody tr th:only-of-type {\n",
       "        vertical-align: middle;\n",
       "    }\n",
       "\n",
       "    .dataframe tbody tr th {\n",
       "        vertical-align: top;\n",
       "    }\n",
       "\n",
       "    .dataframe thead th {\n",
       "        text-align: right;\n",
       "    }\n",
       "</style>\n",
       "<table border=\"1\" class=\"dataframe\">\n",
       "  <thead>\n",
       "    <tr style=\"text-align: right;\">\n",
       "      <th></th>\n",
       "      <th>0</th>\n",
       "      <th>-1.359807134</th>\n",
       "      <th>-0.072781173</th>\n",
       "      <th>2.536346738</th>\n",
       "      <th>1.378155224</th>\n",
       "      <th>-0.33832077</th>\n",
       "      <th>0.462387778</th>\n",
       "      <th>0.239598554</th>\n",
       "      <th>0.098697901</th>\n",
       "      <th>0.36378697</th>\n",
       "      <th>...</th>\n",
       "      <th>-0.018306778</th>\n",
       "      <th>0.277837576</th>\n",
       "      <th>-0.11047391</th>\n",
       "      <th>0.066928075</th>\n",
       "      <th>0.128539358</th>\n",
       "      <th>-0.189114844</th>\n",
       "      <th>0.133558377</th>\n",
       "      <th>-0.021053053</th>\n",
       "      <th>149.62</th>\n",
       "      <th>0.1</th>\n",
       "    </tr>\n",
       "  </thead>\n",
       "  <tbody>\n",
       "    <tr>\n",
       "      <th>count</th>\n",
       "      <td>662.000000</td>\n",
       "      <td>662.000000</td>\n",
       "      <td>662.000000</td>\n",
       "      <td>662.000000</td>\n",
       "      <td>662.000000</td>\n",
       "      <td>662.000000</td>\n",
       "      <td>662.000000</td>\n",
       "      <td>662.000000</td>\n",
       "      <td>662.000000</td>\n",
       "      <td>662.000000</td>\n",
       "      <td>...</td>\n",
       "      <td>662.000000</td>\n",
       "      <td>662.000000</td>\n",
       "      <td>662.000000</td>\n",
       "      <td>662.000000</td>\n",
       "      <td>662.000000</td>\n",
       "      <td>662.000000</td>\n",
       "      <td>662.000000</td>\n",
       "      <td>662.000000</td>\n",
       "      <td>662.000000</td>\n",
       "      <td>662.000000</td>\n",
       "    </tr>\n",
       "    <tr>\n",
       "      <th>mean</th>\n",
       "      <td>241.087613</td>\n",
       "      <td>-0.171685</td>\n",
       "      <td>0.203339</td>\n",
       "      <td>0.865507</td>\n",
       "      <td>0.312177</td>\n",
       "      <td>0.005481</td>\n",
       "      <td>0.190657</td>\n",
       "      <td>0.119999</td>\n",
       "      <td>-0.058113</td>\n",
       "      <td>-0.022026</td>\n",
       "      <td>...</td>\n",
       "      <td>0.011604</td>\n",
       "      <td>-0.101897</td>\n",
       "      <td>-0.039030</td>\n",
       "      <td>-0.001231</td>\n",
       "      <td>0.118344</td>\n",
       "      <td>0.024121</td>\n",
       "      <td>0.026115</td>\n",
       "      <td>-0.015513</td>\n",
       "      <td>70.219940</td>\n",
       "      <td>0.039275</td>\n",
       "    </tr>\n",
       "    <tr>\n",
       "      <th>std</th>\n",
       "      <td>146.878674</td>\n",
       "      <td>1.318935</td>\n",
       "      <td>1.195939</td>\n",
       "      <td>1.016148</td>\n",
       "      <td>1.268311</td>\n",
       "      <td>1.131878</td>\n",
       "      <td>1.249667</td>\n",
       "      <td>0.861213</td>\n",
       "      <td>0.829037</td>\n",
       "      <td>0.898050</td>\n",
       "      <td>...</td>\n",
       "      <td>0.611495</td>\n",
       "      <td>0.609526</td>\n",
       "      <td>0.369470</td>\n",
       "      <td>0.628766</td>\n",
       "      <td>0.426891</td>\n",
       "      <td>0.468805</td>\n",
       "      <td>0.308407</td>\n",
       "      <td>0.291266</td>\n",
       "      <td>206.580833</td>\n",
       "      <td>0.194395</td>\n",
       "    </tr>\n",
       "    <tr>\n",
       "      <th>min</th>\n",
       "      <td>0.000000</td>\n",
       "      <td>-6.093248</td>\n",
       "      <td>-12.114213</td>\n",
       "      <td>-5.694973</td>\n",
       "      <td>-4.657545</td>\n",
       "      <td>-6.631951</td>\n",
       "      <td>-3.498447</td>\n",
       "      <td>-4.925568</td>\n",
       "      <td>-7.494658</td>\n",
       "      <td>-2.770089</td>\n",
       "      <td>...</td>\n",
       "      <td>-4.134608</td>\n",
       "      <td>-2.776923</td>\n",
       "      <td>-3.553381</td>\n",
       "      <td>-1.867208</td>\n",
       "      <td>-1.389079</td>\n",
       "      <td>-1.243924</td>\n",
       "      <td>-2.377933</td>\n",
       "      <td>-2.735623</td>\n",
       "      <td>0.000000</td>\n",
       "      <td>0.000000</td>\n",
       "    </tr>\n",
       "    <tr>\n",
       "      <th>25%</th>\n",
       "      <td>105.250000</td>\n",
       "      <td>-0.898800</td>\n",
       "      <td>-0.174281</td>\n",
       "      <td>0.311406</td>\n",
       "      <td>-0.436612</td>\n",
       "      <td>-0.553732</td>\n",
       "      <td>-0.614206</td>\n",
       "      <td>-0.325427</td>\n",
       "      <td>-0.158631</td>\n",
       "      <td>-0.517332</td>\n",
       "      <td>...</td>\n",
       "      <td>-0.219976</td>\n",
       "      <td>-0.528998</td>\n",
       "      <td>-0.172891</td>\n",
       "      <td>-0.384998</td>\n",
       "      <td>-0.160561</td>\n",
       "      <td>-0.313283</td>\n",
       "      <td>-0.045096</td>\n",
       "      <td>-0.015094</td>\n",
       "      <td>5.975000</td>\n",
       "      <td>0.000000</td>\n",
       "    </tr>\n",
       "    <tr>\n",
       "      <th>50%</th>\n",
       "      <td>241.500000</td>\n",
       "      <td>-0.373362</td>\n",
       "      <td>0.280917</td>\n",
       "      <td>0.894895</td>\n",
       "      <td>0.444094</td>\n",
       "      <td>-0.106432</td>\n",
       "      <td>-0.072322</td>\n",
       "      <td>0.116329</td>\n",
       "      <td>0.043828</td>\n",
       "      <td>-0.074044</td>\n",
       "      <td>...</td>\n",
       "      <td>-0.070155</td>\n",
       "      <td>-0.072565</td>\n",
       "      <td>-0.045317</td>\n",
       "      <td>0.093423</td>\n",
       "      <td>0.145592</td>\n",
       "      <td>-0.015632</td>\n",
       "      <td>0.022920</td>\n",
       "      <td>0.023137</td>\n",
       "      <td>17.240000</td>\n",
       "      <td>0.000000</td>\n",
       "    </tr>\n",
       "    <tr>\n",
       "      <th>75%</th>\n",
       "      <td>366.000000</td>\n",
       "      <td>1.109776</td>\n",
       "      <td>0.877703</td>\n",
       "      <td>1.505101</td>\n",
       "      <td>1.140394</td>\n",
       "      <td>0.469752</td>\n",
       "      <td>0.491334</td>\n",
       "      <td>0.567795</td>\n",
       "      <td>0.263080</td>\n",
       "      <td>0.415549</td>\n",
       "      <td>...</td>\n",
       "      <td>0.102520</td>\n",
       "      <td>0.312472</td>\n",
       "      <td>0.073996</td>\n",
       "      <td>0.429869</td>\n",
       "      <td>0.440540</td>\n",
       "      <td>0.264540</td>\n",
       "      <td>0.114210</td>\n",
       "      <td>0.088143</td>\n",
       "      <td>57.147500</td>\n",
       "      <td>0.000000</td>\n",
       "    </tr>\n",
       "    <tr>\n",
       "      <th>max</th>\n",
       "      <td>499.000000</td>\n",
       "      <td>1.586093</td>\n",
       "      <td>5.267376</td>\n",
       "      <td>3.772857</td>\n",
       "      <td>4.075817</td>\n",
       "      <td>7.672544</td>\n",
       "      <td>5.122103</td>\n",
       "      <td>4.808426</td>\n",
       "      <td>1.726413</td>\n",
       "      <td>5.459274</td>\n",
       "      <td>...</td>\n",
       "      <td>5.273420</td>\n",
       "      <td>1.461535</td>\n",
       "      <td>3.150413</td>\n",
       "      <td>1.215279</td>\n",
       "      <td>1.136720</td>\n",
       "      <td>3.065576</td>\n",
       "      <td>2.490503</td>\n",
       "      <td>1.575380</td>\n",
       "      <td>3828.040000</td>\n",
       "      <td>1.000000</td>\n",
       "    </tr>\n",
       "  </tbody>\n",
       "</table>\n",
       "<p>8 rows × 31 columns</p>\n",
       "</div>"
      ],
      "text/plain": [
       "                0  -1.359807134  -0.072781173  2.536346738  1.378155224  \\\n",
       "count  662.000000    662.000000    662.000000   662.000000   662.000000   \n",
       "mean   241.087613     -0.171685      0.203339     0.865507     0.312177   \n",
       "std    146.878674      1.318935      1.195939     1.016148     1.268311   \n",
       "min      0.000000     -6.093248    -12.114213    -5.694973    -4.657545   \n",
       "25%    105.250000     -0.898800     -0.174281     0.311406    -0.436612   \n",
       "50%    241.500000     -0.373362      0.280917     0.894895     0.444094   \n",
       "75%    366.000000      1.109776      0.877703     1.505101     1.140394   \n",
       "max    499.000000      1.586093      5.267376     3.772857     4.075817   \n",
       "\n",
       "       -0.33832077  0.462387778  0.239598554  0.098697901  0.36378697  ...  \\\n",
       "count   662.000000   662.000000   662.000000   662.000000  662.000000  ...   \n",
       "mean      0.005481     0.190657     0.119999    -0.058113   -0.022026  ...   \n",
       "std       1.131878     1.249667     0.861213     0.829037    0.898050  ...   \n",
       "min      -6.631951    -3.498447    -4.925568    -7.494658   -2.770089  ...   \n",
       "25%      -0.553732    -0.614206    -0.325427    -0.158631   -0.517332  ...   \n",
       "50%      -0.106432    -0.072322     0.116329     0.043828   -0.074044  ...   \n",
       "75%       0.469752     0.491334     0.567795     0.263080    0.415549  ...   \n",
       "max       7.672544     5.122103     4.808426     1.726413    5.459274  ...   \n",
       "\n",
       "       -0.018306778  0.277837576  -0.11047391  0.066928075  0.128539358  \\\n",
       "count    662.000000   662.000000   662.000000   662.000000   662.000000   \n",
       "mean       0.011604    -0.101897    -0.039030    -0.001231     0.118344   \n",
       "std        0.611495     0.609526     0.369470     0.628766     0.426891   \n",
       "min       -4.134608    -2.776923    -3.553381    -1.867208    -1.389079   \n",
       "25%       -0.219976    -0.528998    -0.172891    -0.384998    -0.160561   \n",
       "50%       -0.070155    -0.072565    -0.045317     0.093423     0.145592   \n",
       "75%        0.102520     0.312472     0.073996     0.429869     0.440540   \n",
       "max        5.273420     1.461535     3.150413     1.215279     1.136720   \n",
       "\n",
       "       -0.189114844  0.133558377  -0.021053053       149.62         0.1  \n",
       "count    662.000000   662.000000    662.000000   662.000000  662.000000  \n",
       "mean       0.024121     0.026115     -0.015513    70.219940    0.039275  \n",
       "std        0.468805     0.308407      0.291266   206.580833    0.194395  \n",
       "min       -1.243924    -2.377933     -2.735623     0.000000    0.000000  \n",
       "25%       -0.313283    -0.045096     -0.015094     5.975000    0.000000  \n",
       "50%       -0.015632     0.022920      0.023137    17.240000    0.000000  \n",
       "75%        0.264540     0.114210      0.088143    57.147500    0.000000  \n",
       "max        3.065576     2.490503      1.575380  3828.040000    1.000000  \n",
       "\n",
       "[8 rows x 31 columns]"
      ]
     },
     "execution_count": 10,
     "metadata": {},
     "output_type": "execute_result"
    }
   ],
   "source": [
    "cre_df.describe()"
   ]
  },
  {
   "cell_type": "code",
   "execution_count": 14,
   "metadata": {},
   "outputs": [],
   "source": [
    "x = cre_df.iloc[:,0:31].values             # independent variables"
   ]
  },
  {
   "cell_type": "code",
   "execution_count": 15,
   "metadata": {},
   "outputs": [],
   "source": [
    "y = cre_df.iloc[:,-1].values                        # dependent variables"
   ]
  },
  {
   "cell_type": "code",
   "execution_count": 16,
   "metadata": {},
   "outputs": [],
   "source": [
    "# splitting the dataset\n",
    "# importing the library\n",
    "from sklearn.model_selection import train_test_split"
   ]
  },
  {
   "cell_type": "code",
   "execution_count": 17,
   "metadata": {},
   "outputs": [],
   "source": [
    "x_train,x_test,y_train,y_test = train_test_split(x,y,test_size=0.20,random_state=0)"
   ]
  },
  {
   "cell_type": "code",
   "execution_count": 19,
   "metadata": {},
   "outputs": [
    {
     "data": {
      "text/plain": [
       "(529, 1)"
      ]
     },
     "execution_count": 19,
     "metadata": {},
     "output_type": "execute_result"
    }
   ],
   "source": [
    "y_train = y_train.reshape(-1,1)                  # reshape the data in 2d  format\n",
    "y_train.shape"
   ]
  },
  {
   "cell_type": "code",
   "execution_count": 20,
   "metadata": {},
   "outputs": [
    {
     "data": {
      "text/plain": [
       "(133, 1)"
      ]
     },
     "execution_count": 20,
     "metadata": {},
     "output_type": "execute_result"
    }
   ],
   "source": [
    "y_test = y_test.reshape(-1,1)\n",
    "y_test.shape                                         # reshape the data in 2d  format"
   ]
  },
  {
   "cell_type": "markdown",
   "metadata": {},
   "source": [
    "# MULTIPLE LINEAR REGRESSION"
   ]
  },
  {
   "cell_type": "code",
   "execution_count": 21,
   "metadata": {},
   "outputs": [],
   "source": [
    "# importing the library\n",
    "from sklearn.linear_model import LinearRegression\n"
   ]
  },
  {
   "cell_type": "code",
   "execution_count": 22,
   "metadata": {},
   "outputs": [
    {
     "data": {
      "text/plain": [
       "LinearRegression(copy_X=True, fit_intercept=True, n_jobs=None,\n",
       "         normalize=False)"
      ]
     },
     "execution_count": 22,
     "metadata": {},
     "output_type": "execute_result"
    }
   ],
   "source": [
    "# creating a class of the imported library\n",
    "regressor = LinearRegression()\n",
    "regressor.fit(x_train,y_train)"
   ]
  },
  {
   "cell_type": "code",
   "execution_count": 24,
   "metadata": {},
   "outputs": [
    {
     "name": "stdout",
     "output_type": "stream",
     "text": [
      "(133, 1)\n"
     ]
    }
   ],
   "source": [
    "y_pred = regressor.predict(x_test)\n",
    "print(y_pred.shape)"
   ]
  },
  {
   "cell_type": "code",
   "execution_count": 25,
   "metadata": {},
   "outputs": [],
   "source": [
    "# checking the r2 score of the model\n",
    "# importing the library\n",
    "from sklearn.metrics import r2_score"
   ]
  },
  {
   "cell_type": "code",
   "execution_count": 27,
   "metadata": {},
   "outputs": [
    {
     "name": "stdout",
     "output_type": "stream",
     "text": [
      "accuracy score of the model is : 1.0\n"
     ]
    }
   ],
   "source": [
    "score = r2_score(y_pred,y_test)\n",
    "print('accuracy score of the model is :',score)"
   ]
  },
  {
   "cell_type": "markdown",
   "metadata": {},
   "source": [
    "# DECISION TREE ALGORITHM"
   ]
  },
  {
   "cell_type": "code",
   "execution_count": 29,
   "metadata": {},
   "outputs": [],
   "source": [
    "# importing the library\n",
    "from sklearn.tree import DecisionTreeRegressor"
   ]
  },
  {
   "cell_type": "code",
   "execution_count": 31,
   "metadata": {},
   "outputs": [
    {
     "data": {
      "text/plain": [
       "DecisionTreeRegressor(criterion='mse', max_depth=None, max_features=None,\n",
       "           max_leaf_nodes=None, min_impurity_decrease=0.0,\n",
       "           min_impurity_split=None, min_samples_leaf=1,\n",
       "           min_samples_split=2, min_weight_fraction_leaf=0.0,\n",
       "           presort=False, random_state=0, splitter='best')"
      ]
     },
     "execution_count": 31,
     "metadata": {},
     "output_type": "execute_result"
    }
   ],
   "source": [
    "regressor = DecisionTreeRegressor(random_state=0)\n",
    "regressor.fit(x_train,y_train)"
   ]
  },
  {
   "cell_type": "code",
   "execution_count": 34,
   "metadata": {},
   "outputs": [
    {
     "name": "stdout",
     "output_type": "stream",
     "text": [
      "(133,)\n"
     ]
    }
   ],
   "source": [
    "# prediciting the result\n",
    "y_pred = regressor.predict(x_test)\n",
    "print(y_pred.shape)"
   ]
  },
  {
   "cell_type": "code",
   "execution_count": null,
   "metadata": {},
   "outputs": [],
   "source": []
  }
 ],
 "metadata": {
  "kernelspec": {
   "display_name": "Python 3",
   "language": "python",
   "name": "python3"
  },
  "language_info": {
   "codemirror_mode": {
    "name": "ipython",
    "version": 3
   },
   "file_extension": ".py",
   "mimetype": "text/x-python",
   "name": "python",
   "nbconvert_exporter": "python",
   "pygments_lexer": "ipython3",
   "version": "3.7.3"
  }
 },
 "nbformat": 4,
 "nbformat_minor": 2
}
